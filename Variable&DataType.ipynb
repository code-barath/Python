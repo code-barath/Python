{
 "cells": [
  {
   "cell_type": "code",
   "execution_count": 1,
   "id": "6bd7de9a-d285-4af7-8654-58aa7055ec48",
   "metadata": {},
   "outputs": [
    {
     "name": "stdout",
     "output_type": "stream",
     "text": [
      "15\n"
     ]
    }
   ],
   "source": [
    "a = 5\n",
    "b = 10 \n",
    "print(a + b)"
   ]
  },
  {
   "cell_type": "code",
   "execution_count": 6,
   "id": "fba3dcc4-3f80-4376-8f5e-581025f4d714",
   "metadata": {},
   "outputs": [
    {
     "name": "stdout",
     "output_type": "stream",
     "text": [
      "13\n"
     ]
    }
   ],
   "source": [
    "a =\"Hello, World!\"\n",
    "new_a=len(a)\n",
    "print (new_a)"
   ]
  },
  {
   "cell_type": "code",
   "execution_count": 7,
   "id": "c3a6aa2d-760a-4277-902e-cfbeeeb62cc5",
   "metadata": {},
   "outputs": [
    {
     "name": "stdout",
     "output_type": "stream",
     "text": [
      "124\n"
     ]
    }
   ],
   "source": [
    "number = \"123\"\n",
    "new_number = int(number) + 1 \n",
    "print(new_number)"
   ]
  },
  {
   "cell_type": "code",
   "execution_count": 18,
   "id": "7e8a742b-1710-4f69-bbfb-69c1c93da342",
   "metadata": {},
   "outputs": [
    {
     "name": "stdout",
     "output_type": "stream",
     "text": [
      "[1, 2, 3, 4, 5, 6]\n"
     ]
    }
   ],
   "source": [
    "numbers = [ 1 , 2 , 3 , 4 , 5]\n",
    "numbers.append(6) \n",
    "print ( numbers )"
   ]
  },
  {
   "cell_type": "code",
   "execution_count": 24,
   "id": "697c6f40-4493-4e69-b9cb-9302636d71cd",
   "metadata": {},
   "outputs": [
    {
     "name": "stdout",
     "output_type": "stream",
     "text": [
      "Barath\n",
      "A\n"
     ]
    }
   ],
   "source": [
    "person = {\n",
    "\"name\" : \"Barath\"  ,\n",
    "\"age\" : 17 \n",
    "}\n",
    "print(person[\"name\"])\n",
    "\n",
    "Grade = { \n",
    "    \"Math\" : \"A\" ,\n",
    "    \"English\": \"B\"\n",
    "}\n",
    "print(Grade[\"Math\"])\n",
    "    "
   ]
  },
  {
   "cell_type": "code",
   "execution_count": 28,
   "id": "404017d9-489a-42e4-934e-8b0477540934",
   "metadata": {},
   "outputs": [
    {
     "name": "stdout",
     "output_type": "stream",
     "text": [
      "200\n",
      "100\n"
     ]
    }
   ],
   "source": [
    "x = 100 \n",
    "y = 200 \n",
    "##print(x)\n",
    "##print(y)\n",
    "x, y = y, x\n",
    "print (x)\n",
    "print (y)"
   ]
  },
  {
   "cell_type": "code",
   "execution_count": 32,
   "id": "7027bde5-dad5-492b-baab-31a33b0fbe90",
   "metadata": {},
   "outputs": [
    {
     "name": "stdout",
     "output_type": "stream",
     "text": [
      "20\n"
     ]
    }
   ],
   "source": [
    "number = ( 10 , 20 , 30 )\n",
    "print(number[-2])"
   ]
  },
  {
   "cell_type": "code",
   "execution_count": 34,
   "id": "bc9cbf41-b7b1-40af-8086-aa2a75f5798c",
   "metadata": {},
   "outputs": [
    {
     "name": "stdout",
     "output_type": "stream",
     "text": [
      "{1, 2, 3, 4, 5}\n",
      "{3}\n"
     ]
    }
   ],
   "source": [
    "a = { 1 , 2 , 3 }\n",
    "b = { 3 , 4 , 5 }\n",
    "\n",
    "union = a.union(b)\n",
    "intersection = a.intersection(b)\n",
    "print ( union ) \n",
    "print ( intersection ) "
   ]
  },
  {
   "cell_type": "code",
   "execution_count": 40,
   "id": "eac32c05-ed9b-4ba1-9e76-3ee897fcff99",
   "metadata": {},
   "outputs": [
    {
     "name": "stdout",
     "output_type": "stream",
     "text": [
      "Either it's not raining or you have an umbrella. You can go outside.\n"
     ]
    }
   ],
   "source": [
    "\n",
    "is_raining = False\n",
    "has_umbrella = True\n",
    "\n",
    "if is_raining == True & has_umbrella == False:\n",
    "    print(\"It's raining and you don't have an umbrella. Better stay indoors.\")\n",
    "else:\n",
    "    print(\"Either it's not raining or you have an umbrella. You can go outside.\")"
   ]
  },
  {
   "cell_type": "code",
   "execution_count": 56,
   "id": "1318ace9-3993-4852-bf51-8314daf47311",
   "metadata": {},
   "outputs": [
    {
     "name": "stdout",
     "output_type": "stream",
     "text": [
      "84.33\n"
     ]
    }
   ],
   "source": [
    "john = {\n",
    "    \"name1\" : \"john\" ,\n",
    "    \"score1\" : 90 \n",
    "}\n",
    "jane = {\n",
    "    \"name2\" : \"jane\" ,\n",
    "    \"score2\" : 85 \n",
    "}\n",
    "doe = {\n",
    "    \"name3\" : \"doe\" ,\n",
    "    \"score3\" : 78 \n",
    "}\n",
    "a = (john[\"score1\"])\n",
    "b = (jane[\"score2\"])\n",
    "c = (doe[\"score3\"])\n",
    "d = ( (a+b+c)/3 )\n",
    "print(f\"{d:.2f}\")"
   ]
  },
  {
   "cell_type": "code",
   "execution_count": null,
   "id": "4a8738ea-92d8-4175-a0a6-da4bca8245f3",
   "metadata": {},
   "outputs": [],
   "source": []
  },
  {
   "cell_type": "code",
   "execution_count": null,
   "id": "8c7bc37c-244e-4a9c-a5e4-5ebda7276597",
   "metadata": {},
   "outputs": [],
   "source": []
  }
 ],
 "metadata": {
  "kernelspec": {
   "display_name": "Python 3 (ipykernel)",
   "language": "python",
   "name": "python3"
  },
  "language_info": {
   "codemirror_mode": {
    "name": "ipython",
    "version": 3
   },
   "file_extension": ".py",
   "mimetype": "text/x-python",
   "name": "python",
   "nbconvert_exporter": "python",
   "pygments_lexer": "ipython3",
   "version": "3.11.7"
  }
 },
 "nbformat": 4,
 "nbformat_minor": 5
}
